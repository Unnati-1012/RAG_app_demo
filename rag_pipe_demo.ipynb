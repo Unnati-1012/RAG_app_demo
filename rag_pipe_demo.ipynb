{
 "cells": [
  {
   "cell_type": "markdown",
   "id": "6d8a851d",
   "metadata": {},
   "source": [
    "## FileNotFoundError\n",
    "The file `founder_story.txt` was not found in the current directory.\n",
    "\n",
    "- Ensure that `founder_story.txt` exists in the same folder as this notebook.\n",
    "- If it does not exist, create the file or update the path in the code cell below."
   ]
  },
  {
   "cell_type": "code",
   "execution_count": 3,
   "id": "5039eb79",
   "metadata": {},
   "outputs": [
    {
     "name": "stdout",
     "output_type": "stream",
     "text": [
      "File 'founder_story.txt' not found. Please ensure it exists in the current directory.\n"
     ]
    }
   ],
   "source": [
    "import os\n",
    "\n",
    "filename = \"founder_story.txt\"\n",
    "if os.path.exists(filename):\n",
    "    with open(filename, \"r\", encoding='utf-8') as f:\n",
    "        raw_text = f.read()\n",
    "else:\n",
    "    print(f\"File '{filename}' not found. Please ensure it exists in the current directory.\")\n",
    "    raw_text = None"
   ]
  },
  {
   "cell_type": "markdown",
   "id": "38e3e18e",
   "metadata": {},
   "source": [
    "## Reading the Founder Story\n",
    "The file `founder_story.txt` is located in the `euron_rag_application/data/` directory. The code below reads the file using the correct relative path."
   ]
  },
  {
   "cell_type": "code",
   "execution_count": 5,
   "id": "f180f96f",
   "metadata": {},
   "outputs": [],
   "source": [
    "with open(\"euron_rag_application/data/founder_story.txt\", \"r\", encoding='utf-8') as f:\n",
    "    raw_text = f.read()"
   ]
  }
 ],
 "metadata": {
  "kernelspec": {
   "display_name": ".venv",
   "language": "python",
   "name": "python3"
  },
  "language_info": {
   "codemirror_mode": {
    "name": "ipython",
    "version": 3
   },
   "file_extension": ".py",
   "mimetype": "text/x-python",
   "name": "python",
   "nbconvert_exporter": "python",
   "pygments_lexer": "ipython3",
   "version": "3.13.6"
  }
 },
 "nbformat": 4,
 "nbformat_minor": 5
}
